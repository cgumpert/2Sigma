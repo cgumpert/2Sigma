{
 "cells": [
  {
   "cell_type": "code",
   "execution_count": null,
   "metadata": {
    "collapsed": false
   },
   "outputs": [],
   "source": [
    "import pandas as pd\n",
    "import numpy as np\n",
    "import matplotlib.pyplot as plt\n",
    "import seaborn as sns\n",
    "%matplotlib inline"
   ]
  },
  {
   "cell_type": "code",
   "execution_count": null,
   "metadata": {
    "collapsed": true
   },
   "outputs": [],
   "source": [
    "with pd.HDFStore('train.h5') as train:\n",
    "    df = train.get('train')"
   ]
  },
  {
   "cell_type": "code",
   "execution_count": null,
   "metadata": {
    "collapsed": false
   },
   "outputs": [],
   "source": [
    "print('Shape : {}'.format(df.shape))"
   ]
  },
  {
   "cell_type": "code",
   "execution_count": null,
   "metadata": {
    "collapsed": false
   },
   "outputs": [],
   "source": [
    "null_counts = df.isnull().sum()"
   ]
  },
  {
   "cell_type": "code",
   "execution_count": null,
   "metadata": {
    "collapsed": false
   },
   "outputs": [],
   "source": [
    "plt.figure(figsize=(16,8))\n",
    "plt.xticks(np.arange(len(null_counts))+0.5,null_counts.index,rotation='vertical')\n",
    "plt.bar(np.arange(len(null_counts)),null_counts)"
   ]
  },
  {
   "cell_type": "code",
   "execution_count": null,
   "metadata": {
    "collapsed": false
   },
   "outputs": [],
   "source": [
    "feature_columns = df.columns.drop(['id','timestamp','y'])\n",
    "iterables = [feature_columns,['count','fraction','seq']]\n",
    "index = pd.MultiIndex.from_product(iterables,names=['feature','stat'])\n",
    "ids = df.id.unique()\n",
    "ids.sort()\n",
    "nan_df = pd.DataFrame(data=None,index=ids,columns=index)"
   ]
  },
  {
   "cell_type": "code",
   "execution_count": null,
   "metadata": {
    "collapsed": false,
    "scrolled": true
   },
   "outputs": [],
   "source": [
    "from itertools import groupby\n",
    "for name,group in df.groupby('id'):\n",
    "    for c in feature_columns:\n",
    "        nan_count = group[c].isnull().sum()\n",
    "        timespan = len(group[c])\n",
    "        nan_indices = pd.isnull(group[c]).nonzero()[0]\n",
    "        nseq = len(list(groupby(enumerate(nan_indices),lambda (i,x):i-x)))\n",
    "        nan_df.loc[name][c,'count'] = nan_count\n",
    "        nan_df.loc[name][c,'fraction'] = nan_count * 1.0/timespan\n",
    "        nan_df.loc[name][c,'seq'] = nseq"
   ]
  },
  {
   "cell_type": "code",
   "execution_count": null,
   "metadata": {
    "collapsed": false
   },
   "outputs": [],
   "source": [
    "nan_df.head()"
   ]
  },
  {
   "cell_type": "code",
   "execution_count": null,
   "metadata": {
    "collapsed": false,
    "scrolled": true
   },
   "outputs": [],
   "source": [
    "max_nseq = nan_df.xs('seq',level='stat',axis=1).max()\n",
    "plt.figure(figsize=(16,8))\n",
    "plt.xticks(np.arange(len(max_nseq))+0.5,max_nseq.index,rotation='vertical')\n",
    "plt.bar(np.arange(len(max_nseq)),max_nseq)\n",
    "plt.gca().set_ylim([0,3])\n",
    "plt.ylabel('maximum number of NaN ranges')"
   ]
  },
  {
   "cell_type": "code",
   "execution_count": null,
   "metadata": {
    "collapsed": false
   },
   "outputs": [],
   "source": [
    "grouped = df.groupby('id');\n",
    "for i,(n,g) in enumerate(grouped):\n",
    "    d = g.isnull().drop(['timestamp','id','y'],axis=1)\n",
    "    d.index = g.timestamp - g.timestamp.min()\n",
    "    d.index.name = 'relative timestamp'\n",
    "    plt.figure(figsize=(16,12))\n",
    "    plt.title(\"ID = %d\" % n)\n",
    "    sns.heatmap(d.T,xticklabels=100,cbar=False)\n",
    "    if i > 10:\n",
    "        break"
   ]
  },
  {
   "cell_type": "code",
   "execution_count": null,
   "metadata": {
    "collapsed": true
   },
   "outputs": [],
   "source": []
  }
 ],
 "metadata": {
  "kernelspec": {
   "display_name": "Python 2",
   "language": "python",
   "name": "python2"
  },
  "language_info": {
   "codemirror_mode": {
    "name": "ipython",
    "version": 2
   },
   "file_extension": ".py",
   "mimetype": "text/x-python",
   "name": "python",
   "nbconvert_exporter": "python",
   "pygments_lexer": "ipython2",
   "version": "2.7.12"
  }
 },
 "nbformat": 4,
 "nbformat_minor": 1
}
