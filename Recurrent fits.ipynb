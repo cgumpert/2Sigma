{
 "cells": [
  {
   "cell_type": "code",
   "execution_count": null,
   "metadata": {
    "collapsed": false
   },
   "outputs": [],
   "source": [
    "import numpy as np\n",
    "import pandas as pd\n",
    "import matplotlib.pyplot as plt\n",
    "import logging\n",
    "logging.basicConfig(format='%(asctime)s %(levelname)-10s %(message)s',\n",
    "                    datefmt='%H:%M:%S',\n",
    "                    level=logging.DEBUG)\n",
    "%matplotlib inline"
   ]
  },
  {
   "cell_type": "code",
   "execution_count": null,
   "metadata": {
    "collapsed": false
   },
   "outputs": [],
   "source": [
    "with pd.HDFStore('train.h5') as train:\n",
    "    df = train.get('train')"
   ]
  },
  {
   "cell_type": "code",
   "execution_count": null,
   "metadata": {
    "collapsed": true
   },
   "outputs": [],
   "source": [
    "from sklearn.linear_model import Ridge\n",
    "from sklearn.metrics import r2_score\n",
    "\n",
    "def recurrent_linear_fit(df,col,quantile=0.99,min_train_fraction=0.9):\n",
    "    logging.info(\"recurrent linear fit to '%s'\",col)\n",
    "    X = df.loc[:,[col]]\n",
    "    train_index = X.dropna().index\n",
    "    start_train_size = len(train_index)\n",
    "    better = True\n",
    "    score = -1000\n",
    "    best_score = -1000\n",
    "    best_model = None\n",
    "    iteration = 0\n",
    "    while better:\n",
    "        iteration +=1\n",
    "        X = df.loc[train_index,[col]]\n",
    "        y = df.y[train_index]\n",
    "        internal_model = Ridge(alpha=0.1,fit_intercept=False)\n",
    "        internal_model.fit(X,y)\n",
    "        score = r2_score(y,internal_model.predict(X))\n",
    "        logging.debug(\"iteration %d: score = %.7f, train fraction = %.1f%%\",iteration,score,len(train_index) * 100./start_train_size)\n",
    "        better = score > best_score\n",
    "        if better:\n",
    "            best_score = score\n",
    "            best_model = internal_model\n",
    "            residuals = np.abs(y - internal_model.predict(X))\n",
    "            train_index = residuals[residuals < residuals.quantile(quantile)].index\n",
    "            if len(train_index) < min_train_fraction * start_train_size:\n",
    "                better = False\n",
    "        \n",
    "    return best_model,best_score"
   ]
  },
  {
   "cell_type": "code",
   "execution_count": null,
   "metadata": {
    "collapsed": false
   },
   "outputs": [],
   "source": [
    "cols2fit = df.drop(['id','timestamp','y'],axis=1).columns\n",
    "logging,info(\"performing recurrent linear fit to %d columns\",len(cols2fit))\n",
    "models = {}\n",
    "for c in cols2fit:\n",
    "    m,s = recurrent_linear_fit(df,c)\n",
    "    models[c] = {'model': m, 'score': s}"
   ]
  },
  {
   "cell_type": "code",
   "execution_count": null,
   "metadata": {
    "collapsed": false
   },
   "outputs": [],
   "source": [
    "scores = sorted([a['score'] for a in models.values()])\n",
    "plt.hist(scores,bins=50)"
   ]
  },
  {
   "cell_type": "code",
   "execution_count": null,
   "metadata": {
    "collapsed": true
   },
   "outputs": [],
   "source": []
  }
 ],
 "metadata": {
  "kernelspec": {
   "display_name": "Python 2",
   "language": "python",
   "name": "python2"
  },
  "language_info": {
   "codemirror_mode": {
    "name": "ipython",
    "version": 2
   },
   "file_extension": ".py",
   "mimetype": "text/x-python",
   "name": "python",
   "nbconvert_exporter": "python",
   "pygments_lexer": "ipython2",
   "version": "2.7.12"
  }
 },
 "nbformat": 4,
 "nbformat_minor": 1
}
